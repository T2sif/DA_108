{
  "nbformat": 4,
  "nbformat_minor": 0,
  "metadata": {
    "colab": {
      "provenance": [],
      "authorship_tag": "ABX9TyOKN24EDRE4NTWzcZwtG4C8",
      "include_colab_link": true
    },
    "kernelspec": {
      "name": "python3",
      "display_name": "Python 3"
    },
    "language_info": {
      "name": "python"
    }
  },
  "cells": [
    {
      "cell_type": "markdown",
      "metadata": {
        "id": "view-in-github",
        "colab_type": "text"
      },
      "source": [
        "<a href=\"https://colab.research.google.com/github/T2sif/DA_108/blob/main/Lab07_Assignment_1.ipynb\" target=\"_parent\"><img src=\"https://colab.research.google.com/assets/colab-badge.svg\" alt=\"Open In Colab\"/></a>"
      ]
    },
    {
      "cell_type": "markdown",
      "source": [
        "**Objective A:**\n"
      ],
      "metadata": {
        "id": "SdBgZggwd9NT"
      }
    },
    {
      "cell_type": "markdown",
      "source": [
        "#File Management System for a Research Lab\n",
        "You are working as a data manager in a research lab that collects and organizes data from varioussources. Your task is to automate the organization of files stored in a messy directory containing text files(.txt), CSV datasets (.csv), JSON records (.json), images (.jpg, .png), and log files (.log)."
      ],
      "metadata": {
        "id": "Fw2Dd75XftEm"
      }
    },
    {
      "cell_type": "markdown",
      "source": [
        "**Step 1 - Understanding the Data Directory**\n",
        "\n",
        "● Given a dataset directory (data_repository/), first, list all files using Python.\n",
        "\n",
        "● Print the total number of files in the directory."
      ],
      "metadata": {
        "id": "kFCHmvPUfSaG"
      }
    },
    {
      "cell_type": "code",
      "source": [
        "%pwd"
      ],
      "metadata": {
        "colab": {
          "base_uri": "https://localhost:8080/",
          "height": 36
        },
        "id": "H0YgoJp0juKo",
        "outputId": "1cb3c036-be62-4fe6-b1e4-8d4fe946c7b9"
      },
      "execution_count": null,
      "outputs": [
        {
          "output_type": "execute_result",
          "data": {
            "text/plain": [
              "'/content'"
            ],
            "application/vnd.google.colaboratory.intrinsic+json": {
              "type": "string"
            }
          },
          "metadata": {},
          "execution_count": 1
        }
      ]
    },
    {
      "cell_type": "code",
      "execution_count": null,
      "metadata": {
        "colab": {
          "base_uri": "https://localhost:8080/"
        },
        "id": "dgBBMJVQbgNP",
        "outputId": "ce2fb83d-0b6b-46b3-e348-f609665c5bb4"
      },
      "outputs": [
        {
          "output_type": "stream",
          "name": "stdout",
          "text": [
            "data_repository  sample_data\n"
          ]
        }
      ],
      "source": [
        "!ls"
      ]
    },
    {
      "cell_type": "code",
      "source": [
        "import os\n"
      ],
      "metadata": {
        "id": "1KiGyHznb_fn"
      },
      "execution_count": null,
      "outputs": []
    },
    {
      "cell_type": "code",
      "source": [
        "current_dirc=os.getcwd()\n",
        "print(\"current directory\", current_dirc)"
      ],
      "metadata": {
        "colab": {
          "base_uri": "https://localhost:8080/"
        },
        "id": "HLPzwopDcDH-",
        "outputId": "f2ff6acb-1d2b-4169-c383-70656544a28a"
      },
      "execution_count": null,
      "outputs": [
        {
          "output_type": "stream",
          "name": "stdout",
          "text": [
            "current directory /content\n"
          ]
        }
      ]
    },
    {
      "cell_type": "code",
      "source": [
        "change_dirc='/content/data_repository'\n",
        "os.chdir(change_dirc)\n",
        "current_dirc=os.getcwd()\n",
        "print(\"current directory after changing\", current_dirc)\n"
      ],
      "metadata": {
        "colab": {
          "base_uri": "https://localhost:8080/"
        },
        "id": "qGsw6tUice8I",
        "outputId": "1b8616c8-ace4-41ff-b70d-0fddb9555b6b"
      },
      "execution_count": null,
      "outputs": [
        {
          "output_type": "stream",
          "name": "stdout",
          "text": [
            "current directory after changing /content/data_repository\n"
          ]
        }
      ]
    },
    {
      "cell_type": "code",
      "source": [
        "list_of_files=os.listdir(current_dirc)\n",
        "print(\"list of files\", list_of_files)\n",
        "print(\"total number of files\", len(list_of_files))"
      ],
      "metadata": {
        "colab": {
          "base_uri": "https://localhost:8080/"
        },
        "id": "TW5w0aPqdqwb",
        "outputId": "f877611c-a0a0-4333-a5ec-d9fead09409f"
      },
      "execution_count": null,
      "outputs": [
        {
          "output_type": "stream",
          "name": "stdout",
          "text": [
            "list of files ['LiamWong_TokyoGrunge5.jpg', 'US_recipes.json', 'List_Constructs_Alias_Arrays_and_IO_Redirection.pdf', 'password_generator.py', 'Immediate values.txt', 'turn_left().txt', 'type_casting.py', 'LiamWong_Kimono_2.jpg', 'list_of_companies.csv', 'Crontab_and_Use_Cases.pdf', 'DA105_Module_11.pdf', 'LiamWong_TokyoGrunge3.jpg', 'BlackFriday.csv', 'IITG BScDSAI _ DA108 W24_week_12_lecture_slides_for_learners.pdf', 'LiamWong_Urban2.jpg', 'tip_calculator.py', 'practice.py', 'iris.json', 'LiamWong_TokyoNobody_4.jpg', 'curl_7.88.1-10+deb12u12_arm64.deb', 'LiamWong_TokyoGrunge4.jpg', 'tresure_hunt.py', 'LiamWong_MidnightDiner_Tokyo.jpg', 'sudo su.txt', 'rock_paper_scissors.py', 'US_STATE_recipes.json', 'curl_7.88.1-10+deb12u12_arm64.deb.1', 'random_funtion.py', 'Country_Flags.csv']\n",
            "total number of files 29\n"
          ]
        }
      ]
    },
    {
      "cell_type": "markdown",
      "source": [
        "**Step 2 - Categorizing Files**\n",
        "\n",
        "● Use os and glob to identify and count files by type (TXT, CSV, JSON, JPG, PNG, LOG).\n",
        "\n",
        "● Print the count of each file type."
      ],
      "metadata": {
        "id": "0HBBGpVjfy-2"
      }
    },
    {
      "cell_type": "code",
      "source": [
        "import glob\n",
        "category_of_files={\n",
        "\n",
        "        '*.txt': 'TXT_files',\n",
        "        '*.csv': 'CSV_files',\n",
        "        '*.jpg': 'JPG_files',\n",
        "        '*.json':'JSON_files'\n",
        "        }\n",
        "for pattern,file in category_of_files.items():\n",
        "  files=glob.glob(pattern)\n",
        "  print(f\"{file}: {files}\")\n",
        "  print(f\"the number of {file} is: {len(files)}\")"
      ],
      "metadata": {
        "colab": {
          "base_uri": "https://localhost:8080/"
        },
        "id": "EqPcI5Mjf9MT",
        "outputId": "b09ed029-82ae-41d0-a631-b6ad9fac2284"
      },
      "execution_count": null,
      "outputs": [
        {
          "output_type": "stream",
          "name": "stdout",
          "text": [
            "TXT_files: ['Immediate values.txt', 'turn_left().txt', 'sudo su.txt']\n",
            "the number of TXT_files is: 3\n",
            "CSV_files: ['list_of_companies.csv', 'BlackFriday.csv', 'Country_Flags.csv']\n",
            "the number of CSV_files is: 3\n",
            "JPG_files: ['LiamWong_TokyoGrunge5.jpg', 'LiamWong_Kimono_2.jpg', 'LiamWong_TokyoGrunge3.jpg', 'LiamWong_Urban2.jpg', 'LiamWong_TokyoNobody_4.jpg', 'LiamWong_TokyoGrunge4.jpg', 'LiamWong_MidnightDiner_Tokyo.jpg']\n",
            "the number of JPG_files is: 7\n",
            "JSON_files: ['US_recipes.json', 'iris.json', 'US_STATE_recipes.json']\n",
            "the number of JSON_files is: 3\n"
          ]
        }
      ]
    },
    {
      "cell_type": "markdown",
      "source": [
        "**Step 3 - Organizing Files into Folders**\n",
        "\n",
        "● Create subdirectories inside organized_data/ for each file type (e.g., text_files/, csv_files/,\n",
        "images/, logs/).\n",
        "\n",
        "● Move files into their respective folders."
      ],
      "metadata": {
        "id": "pLP_ayYhkYfp"
      }
    },
    {
      "cell_type": "code",
      "source": [
        "new_folder=os.path.join(os.getcwd(),'organized_data' )\n",
        "os.makedirs(new_folder,exist_ok=True)\n",
        "print(\"new directory created\")\n",
        "os.chdir(new_folder)\n",
        "print(\"present directory\",os.getcwd())"
      ],
      "metadata": {
        "colab": {
          "base_uri": "https://localhost:8080/"
        },
        "id": "1mZVJXnzkej4",
        "outputId": "925df0b6-2907-4f5d-8f28-25f96b90cfbf"
      },
      "execution_count": null,
      "outputs": [
        {
          "output_type": "stream",
          "name": "stdout",
          "text": [
            "new directory created\n",
            "present directory /content/data_repository/organized_data\n"
          ]
        }
      ]
    },
    {
      "cell_type": "code",
      "source": [
        "import shutil\n",
        "source_folder='/content/data_repository'\n",
        "destination_folder='/content/data_repository/organized_data'\n",
        "file_structure = {\n",
        "    '*.txt': 'text_files',\n",
        "    '*.csv': 'csv_files',\n",
        "    '*.jpg': 'images',\n",
        "    '*.json': 'json_files'\n",
        "}\n",
        "for pattern,folder in file_structure.items():\n",
        "  dest_folder=os.path.join(destination_folder,folder)\n",
        "  os.makedirs(dest_folder,exist_ok=True)\n",
        "  for file in glob.glob(os.path.join(source_folder,pattern)):\n",
        "    shutil.move(file,dest_folder)\n",
        "    print(f\"Moved: {file} → {dest_folder}\")"
      ],
      "metadata": {
        "colab": {
          "base_uri": "https://localhost:8080/"
        },
        "id": "LQNbhlMSsuwp",
        "outputId": "d948ba48-3cd7-4efd-9a88-9275aa4963eb"
      },
      "execution_count": null,
      "outputs": [
        {
          "output_type": "stream",
          "name": "stdout",
          "text": [
            "Moved: /content/data_repository/Immediate values.txt → /content/data_repository/organized_data/text_files\n",
            "Moved: /content/data_repository/turn_left().txt → /content/data_repository/organized_data/text_files\n",
            "Moved: /content/data_repository/sudo su.txt → /content/data_repository/organized_data/text_files\n",
            "Moved: /content/data_repository/list_of_companies.csv → /content/data_repository/organized_data/csv_files\n",
            "Moved: /content/data_repository/BlackFriday.csv → /content/data_repository/organized_data/csv_files\n",
            "Moved: /content/data_repository/Country_Flags.csv → /content/data_repository/organized_data/csv_files\n",
            "Moved: /content/data_repository/LiamWong_TokyoGrunge5.jpg → /content/data_repository/organized_data/images\n",
            "Moved: /content/data_repository/LiamWong_Kimono_2.jpg → /content/data_repository/organized_data/images\n",
            "Moved: /content/data_repository/LiamWong_TokyoGrunge3.jpg → /content/data_repository/organized_data/images\n",
            "Moved: /content/data_repository/LiamWong_Urban2.jpg → /content/data_repository/organized_data/images\n",
            "Moved: /content/data_repository/LiamWong_TokyoNobody_4.jpg → /content/data_repository/organized_data/images\n",
            "Moved: /content/data_repository/LiamWong_TokyoGrunge4.jpg → /content/data_repository/organized_data/images\n",
            "Moved: /content/data_repository/LiamWong_MidnightDiner_Tokyo.jpg → /content/data_repository/organized_data/images\n",
            "Moved: /content/data_repository/US_recipes.json → /content/data_repository/organized_data/json_files\n",
            "Moved: /content/data_repository/iris.json → /content/data_repository/organized_data/json_files\n",
            "Moved: /content/data_repository/US_STATE_recipes.json → /content/data_repository/organized_data/json_files\n"
          ]
        }
      ]
    },
    {
      "cell_type": "markdown",
      "source": [
        "**Generating a Summary Report**"
      ],
      "metadata": {
        "id": "yPXzBoIt2v2h"
      }
    },
    {
      "cell_type": "code",
      "source": [
        "dirct= '/content/data_repository/organized_data'\n",
        "category_file_structure = {\n",
        "    'text_files': 'Text files',\n",
        "    'csv_files': 'Csv files',\n",
        "    'images': 'Images Files',\n",
        "    'json_files': 'Json files'\n",
        "}\n",
        "total_files_moved = 0\n",
        "simple_text=[]\n",
        "for folder,category in category_file_structure.items():\n",
        "  new_dirct=os.path.join(dirct,folder)\n",
        "  files=os.listdir(new_dirct)\n",
        "  count=len(files)\n",
        "  total_files_moved += count\n",
        "  sample_file=files[0]\n",
        "  simple_text.append(f\"{category}:\\n count:{count}\\n sample file:{sample_file}\")\n",
        "simple_text.append(f\"\\nTotal Files Moved: {total_files_moved}\\n\")\n",
        "summary_path=os.path.join(dirct,'summary.txt')\n",
        "with open(summary_path,'w') as file:\n",
        "  for line in simple_text:\n",
        "    file.writelines(line + '\\n')\n",
        "\n",
        "\n",
        "\n"
      ],
      "metadata": {
        "id": "H4CZ4GC02lg2"
      },
      "execution_count": null,
      "outputs": []
    }
  ]
}