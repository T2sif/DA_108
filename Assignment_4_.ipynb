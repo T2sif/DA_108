{
  "nbformat": 4,
  "nbformat_minor": 0,
  "metadata": {
    "colab": {
      "provenance": [],
      "authorship_tag": "ABX9TyO4oHiteJgYBwrhkG/gzG1P",
      "include_colab_link": true
    },
    "kernelspec": {
      "name": "python3",
      "display_name": "Python 3"
    },
    "language_info": {
      "name": "python"
    }
  },
  "cells": [
    {
      "cell_type": "markdown",
      "metadata": {
        "id": "view-in-github",
        "colab_type": "text"
      },
      "source": [
        "<a href=\"https://colab.research.google.com/github/T2sif/DA_108/blob/main/Assignment_4_.ipynb\" target=\"_parent\"><img src=\"https://colab.research.google.com/assets/colab-badge.svg\" alt=\"Open In Colab\"/></a>"
      ]
    },
    {
      "cell_type": "markdown",
      "source": [
        "# Demonstrating Numba's Performance Over NumPy"
      ],
      "metadata": {
        "id": "Cw8NJM2NJfmc"
      }
    },
    {
      "cell_type": "markdown",
      "source": [
        "# Objective: Show how numba accelerates numerical computations compared to NumPy."
      ],
      "metadata": {
        "id": "22KQRng8Jo6z"
      }
    },
    {
      "cell_type": "markdown",
      "source": [
        "**Tasks:**\n",
        "1. Write a function to compute the sum of squares of a large array using NumPy.\n",
        "2. Write the same function using numba.jit for just-in-time (JIT) compilation.\n",
        "3. Measure the execution time of both functions using timeit.\n",
        "4. Plot a bar chart comparing execution times for different array sizes.\n",
        "5. Make observations on when to use numba over numpy."
      ],
      "metadata": {
        "id": "isaY9IAUJxMO"
      }
    },
    {
      "cell_type": "code",
      "execution_count": null,
      "metadata": {
        "id": "DC84MUVeqDjf"
      },
      "outputs": [],
      "source": [
        "import numpy as np\n",
        "import time\n",
        "import matplotlib.pyplot as plt\n"
      ]
    },
    {
      "cell_type": "markdown",
      "source": [
        "**sum of squares using NumPy**"
      ],
      "metadata": {
        "id": "lmfBwH3ZKgv5"
      }
    },
    {
      "cell_type": "code",
      "source": [
        "def slow_sum_square(arr):\n",
        "    for i in range(len(arr)):\n",
        "      return np.sum(arr**2)\n",
        "# arr=np.random.randint(1,101,size=10000)\n",
        "# start_time=time.time()\n",
        "# slow_sum_square(arr)\n",
        "# end_time=time.time()\n",
        "# np_time=end_time-start_time\n"
      ],
      "metadata": {
        "id": "8ENoU4KPsYl9"
      },
      "execution_count": null,
      "outputs": []
    },
    {
      "cell_type": "markdown",
      "source": [
        "**using numba.jit for just-in-time (JIT) compilation**"
      ],
      "metadata": {
        "id": "RebYgyYDKvE1"
      }
    },
    {
      "cell_type": "code",
      "source": [
        "from numba import jit\n",
        "@jit(nopython=True)\n",
        "def fast_sum_square(arr):\n",
        "    sum_square=0\n",
        "    for i in range(len(arr)):\n",
        "        sum_square+=arr[i]**2\n",
        "    return sum_square\n",
        "# fast_sum_square(arr)\n",
        "# start_time=time.time()\n",
        "# fast_sum_square(arr)\n",
        "# end_time=time.time()\n",
        "# numba_time=end_time-start_time\n",
        "# print(f\"without numba: {np_time:.6f} sec\")\n",
        "# print(f\"with numba: {numba_time:.6f} sec\")\n"
      ],
      "metadata": {
        "id": "vIt2IbRHKMwz"
      },
      "execution_count": null,
      "outputs": []
    },
    {
      "cell_type": "markdown",
      "source": [
        "**Measure the execution time of both functions using timeit**"
      ],
      "metadata": {
        "id": "LwLgzJJGK35q"
      }
    },
    {
      "cell_type": "code",
      "source": [
        "import timeit\n",
        "sizes=[10_000, 100_000, 1_000_000, 10_000_000]\n",
        "np_time=[]\n",
        "numba_time=[]\n",
        "for size in sizes:\n",
        "    arr=np.random.randint(1,101,size=size)\n",
        "    t_np=timeit.timeit(lambda: slow_sum_square(arr), number=10)\n",
        "    t_numba=timeit.timeit(lambda: fast_sum_square(arr), number=10)\n",
        "    np_time.append(t_np)\n",
        "    numba_time.append(t_numba)\n",
        "print(\"numpy time:\", np_time)\n",
        "print(f\"numba time:\", numba_time)"
      ],
      "metadata": {
        "colab": {
          "base_uri": "https://localhost:8080/"
        },
        "id": "2bpJiSExADCp",
        "outputId": "ec5ee39e-7c3f-4f28-a7eb-46a6f463da7b"
      },
      "execution_count": null,
      "outputs": [
        {
          "output_type": "stream",
          "name": "stdout",
          "text": [
            "numpy time: [0.001032369000313338, 0.0016898810008569853, 0.013620383999295882, 0.3201478870014398]\n",
            "numba time: [0.0001486450000811601, 0.0008170060009433655, 0.00917688499976066, 0.11448796199874778]\n"
          ]
        }
      ]
    },
    {
      "cell_type": "markdown",
      "source": [
        "**Plot a bar chart comparing execution times for different array sizes**"
      ],
      "metadata": {
        "id": "tRzGqOZyLHxT"
      }
    },
    {
      "cell_type": "code",
      "source": [
        "bar_width = 0.25\n",
        "x = np.arange(len(sizes))\n",
        "\n",
        "plt.figure(figsize=(8, 5))\n",
        "plt.bar(x - bar_width/2, np_time, width=bar_width, label='NumPy')\n",
        "plt.bar(x + bar_width/2, numba_time, width=bar_width, label='Numba')\n",
        "plt.xticks(x, sizes)\n",
        "plt.xlabel(\"Array Size\")\n",
        "plt.ylabel(\"Execution Time (seconds)\")\n",
        "plt.title(\"Execution Time: NumPy vs Numba (Sum of Squares)\")\n",
        "plt.legend()\n",
        "plt.grid(False)\n",
        "plt.tight_layout()\n",
        "plt.show()"
      ],
      "metadata": {
        "colab": {
          "base_uri": "https://localhost:8080/",
          "height": 507
        },
        "id": "naJPFBBDGsMF",
        "outputId": "e5984dc6-9b90-4691-d05c-8a7eab220e8a"
      },
      "execution_count": null,
      "outputs": [
        {
          "output_type": "display_data",
          "data": {
            "text/plain": [
              "<Figure size 800x500 with 1 Axes>"
            ],
            "image/png": "[encoded data removed]"
          },
          "metadata": {}
        }
      ]
    },
    {
      "cell_type": "markdown",
      "source": [
        "**observations**\n",
        "\n",
        "For large arrays\n",
        "\n",
        "Numba becomes faster.\n",
        "\n",
        "It compiles the loop into machine code, reducing the Python loop overhead completely."
      ],
      "metadata": {
        "id": "eKSVPV0FLPGm"
      }
    },
    {
      "cell_type": "code",
      "source": [],
      "metadata": {
        "id": "er89FKl1L5Jv"
      },
      "execution_count": null,
      "outputs": []
    }
  ]
}