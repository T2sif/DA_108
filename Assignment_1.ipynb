{
  "nbformat": 4,
  "nbformat_minor": 0,
  "metadata": {
    "colab": {
      "provenance": [],
      "mount_file_id": "15U_AT6F9PbK9UHSDsrwtzNZCnkIVuISs",
      "authorship_tag": "ABX9TyNbWmFly7vxHg/D5nGOqthL",
      "include_colab_link": true
    },
    "kernelspec": {
      "name": "python3",
      "display_name": "Python 3"
    },
    "language_info": {
      "name": "python"
    }
  },
  "cells": [
    {
      "cell_type": "markdown",
      "metadata": {
        "id": "view-in-github",
        "colab_type": "text"
      },
      "source": [
        "<a href=\"https://colab.research.google.com/github/T2sif/DA_108/blob/main/Assignment_1.ipynb\" target=\"_parent\"><img src=\"https://colab.research.google.com/assets/colab-badge.svg\" alt=\"Open In Colab\"/></a>"
      ]
    },
    {
      "cell_type": "markdown",
      "source": [
        "#Linear Algebra with NumPy and SciPy"
      ],
      "metadata": {
        "id": "n11ZIHTiCwkv"
      }
    },
    {
      "cell_type": "markdown",
      "source": [
        "**Tasks:**\n",
        "1. Create a 3×3 random matrix and compute its inverse using numpy.linalg.inv().\n",
        "2. Compute the dot product of two randomly generated vectors using numpy.dot().\n",
        "3. Perform matrix-vector multiplication with NumPy.\n",
        "4. Solve a system of linear equations using scipy.linalg.solve().\n",
        "5. Compute the eigenvalues and eigenvectors of a given square matrix."
      ],
      "metadata": {
        "id": "AOfmJU9-DAcP"
      }
    },
    {
      "cell_type": "code",
      "execution_count": null,
      "metadata": {
        "id": "5lMSVWlTzhag"
      },
      "outputs": [],
      "source": [
        "import numpy as np\n",
        "from scipy import linalg"
      ]
    },
    {
      "cell_type": "code",
      "source": [
        "#Create a 3×3 random matrix\n",
        "matrix=np.random.randint(1,10,(3,3))\n",
        "print(matrix)"
      ],
      "metadata": {
        "colab": {
          "base_uri": "https://localhost:8080/"
        },
        "id": "VkZohqI322O_",
        "outputId": "82478a8a-f0ce-456b-a45c-9b4c20e7ac1e"
      },
      "execution_count": null,
      "outputs": [
        {
          "output_type": "stream",
          "name": "stdout",
          "text": [
            "[[7 2 1]\n",
            " [4 3 3]\n",
            " [5 3 7]]\n"
          ]
        }
      ]
    },
    {
      "cell_type": "code",
      "source": [
        "#its inverse\n",
        "inverse=linalg.inv(matrix)\n",
        "print(inverse)"
      ],
      "metadata": {
        "colab": {
          "base_uri": "https://localhost:8080/"
        },
        "id": "fL6h8kgy4msE",
        "outputId": "69d2f41e-4135-4609-8626-45631febd5e8"
      },
      "execution_count": null,
      "outputs": [
        {
          "output_type": "stream",
          "name": "stdout",
          "text": [
            "[[ 0.21818182 -0.2         0.05454545]\n",
            " [-0.23636364  0.8        -0.30909091]\n",
            " [-0.05454545 -0.2         0.23636364]]\n"
          ]
        }
      ]
    },
    {
      "cell_type": "code",
      "source": [
        "#two randomly generated vectors\n",
        "vector1=np.random.randint(1,10,3)\n",
        "vector2=np.random.randint(1,10,3)\n",
        "print(vector1)\n",
        "print(vector2)\n"
      ],
      "metadata": {
        "colab": {
          "base_uri": "https://localhost:8080/"
        },
        "id": "wbyof_Rm4-B7",
        "outputId": "cc4270c7-52af-422d-d1a2-13b23df6bb13"
      },
      "execution_count": null,
      "outputs": [
        {
          "output_type": "stream",
          "name": "stdout",
          "text": [
            "[7 6 5]\n",
            "[1 1 2]\n"
          ]
        }
      ]
    },
    {
      "cell_type": "code",
      "source": [
        "#the dot product of two randomly generated vectors\n",
        "dot_product=np.dot(vector1,vector2)\n",
        "print(dot_product)\n"
      ],
      "metadata": {
        "colab": {
          "base_uri": "https://localhost:8080/"
        },
        "id": "OWlQOZXe5cI6",
        "outputId": "4d7cc0d3-345c-4c29-d82d-866994b44378"
      },
      "execution_count": null,
      "outputs": [
        {
          "output_type": "stream",
          "name": "stdout",
          "text": [
            "23\n"
          ]
        }
      ]
    },
    {
      "cell_type": "code",
      "source": [
        "#Perform matrix-vector multiplication\n",
        "matrix_vector_1=np.dot(vector1,matrix)\n",
        "print(matrix_vector_1)\n"
      ],
      "metadata": {
        "colab": {
          "base_uri": "https://localhost:8080/"
        },
        "id": "hltB-Wd75vSA",
        "outputId": "0064639f-efa7-4e4b-e331-dfabdbf057a8"
      },
      "execution_count": null,
      "outputs": [
        {
          "output_type": "stream",
          "name": "stdout",
          "text": [
            "[98 47 60]\n"
          ]
        }
      ]
    },
    {
      "cell_type": "markdown",
      "source": [
        "**solve the linear equation**\n",
        "\n",
        "2x+y−z=8\n",
        "\n",
        "−3x−y+2z=−11\n",
        "\n",
        "−2x+y+2z=−3\n",
        "​\n",
        "\n"
      ],
      "metadata": {
        "id": "SqiF9QLB_l1E"
      }
    },
    {
      "cell_type": "code",
      "source": [
        "from scipy.linalg import solve"
      ],
      "metadata": {
        "id": "cA8WtMzPAGQj"
      },
      "execution_count": null,
      "outputs": []
    },
    {
      "cell_type": "code",
      "source": [
        "A=np.array([[2,1,-1],[-3,-1,2],[-2,1,2]])\n",
        "b=np.array([[8],[-11],[-3]])\n",
        "X=solve(A,b)\n",
        "print(X)"
      ],
      "metadata": {
        "colab": {
          "base_uri": "https://localhost:8080/"
        },
        "id": "-XqgWTDwAUee",
        "outputId": "7d1a0740-70aa-489b-8b28-287e3742798b"
      },
      "execution_count": null,
      "outputs": [
        {
          "output_type": "stream",
          "name": "stdout",
          "text": [
            "[[ 2.]\n",
            " [ 3.]\n",
            " [-1.]]\n"
          ]
        }
      ]
    },
    {
      "cell_type": "markdown",
      "source": [
        "**Compute the eigenvalues and eigenvectors of a given square matrix.**"
      ],
      "metadata": {
        "id": "ZISdweojBwaL"
      }
    },
    {
      "cell_type": "markdown",
      "source": [],
      "metadata": {
        "id": "fCbtaVD2Csce"
      }
    },
    {
      "cell_type": "code",
      "source": [
        "#first  generating a new 3x3 random diagonal metrix\n",
        "arr=np.random.randint(1,5,3)\n",
        "diagonal_matrix=np.diag(arr)\n",
        "print(diagonal_matrix)"
      ],
      "metadata": {
        "colab": {
          "base_uri": "https://localhost:8080/"
        },
        "id": "ayP1rDsgBz2f",
        "outputId": "bc25519d-107d-4412-f056-519cc407ce60"
      },
      "execution_count": null,
      "outputs": [
        {
          "output_type": "stream",
          "name": "stdout",
          "text": [
            "[[4 0 0]\n",
            " [0 1 0]\n",
            " [0 0 3]]\n"
          ]
        }
      ]
    },
    {
      "cell_type": "code",
      "source": [
        "eg_val, eg_vect = linalg.eig(diagonal_matrix)\n",
        "print(\"The Eigenvalues are :\")\n",
        "print(eg_val)\n",
        "print(\"The Eigenvectors are :\")\n",
        "print(eg_vect)"
      ],
      "metadata": {
        "colab": {
          "base_uri": "https://localhost:8080/"
        },
        "id": "fao4cNKRCbkA",
        "outputId": "38c44c35-2f43-41a9-9320-0fade2d8f8fb"
      },
      "execution_count": null,
      "outputs": [
        {
          "output_type": "stream",
          "name": "stdout",
          "text": [
            "The Eigenvalues are :\n",
            "[4.+0.j 1.+0.j 3.+0.j]\n",
            "The Eigenvectors are :\n",
            "[[1. 0. 0.]\n",
            " [0. 1. 0.]\n",
            " [0. 0. 1.]]\n"
          ]
        }
      ]
    },
    {
      "cell_type": "markdown",
      "source": [
        "\t**observation:**\n",
        "diagonal matrix with all distinct diagonal elements.\n",
        "In that case, the standard basis vectors ([1 0 0], [0 1 0], [0 0 1]) are the eigenvectors."
      ],
      "metadata": {
        "id": "QInbeUJoFuV6"
      }
    }
  ]
}